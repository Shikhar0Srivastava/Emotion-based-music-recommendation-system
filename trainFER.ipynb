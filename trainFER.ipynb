{
 "cells": [
  {
   "cell_type": "code",
   "execution_count": 1,
   "metadata": {},
   "outputs": [],
   "source": [
    "from keras.models import Sequential\n",
    "from keras.layers import Conv2D, MaxPooling2D, Dense, Dropout, Flatten\n",
    "from keras.optimizers import Adam\n",
    "from tensorflow.keras.preprocessing.image import ImageDataGenerator"
   ]
  },
  {
   "cell_type": "code",
   "execution_count": 2,
   "metadata": {},
   "outputs": [],
   "source": [
    "# Initialize Data Generators with rescaling\n",
    "train_data_gen = ImageDataGenerator(rescale=1./255)\n",
    "test_data_gen = ImageDataGenerator(rescale=1./255)"
   ]
  },
  {
   "cell_type": "code",
   "execution_count": 3,
   "metadata": {},
   "outputs": [
    {
     "name": "stdout",
     "output_type": "stream",
     "text": [
      "Found 28709 images belonging to 7 classes.\n"
     ]
    }
   ],
   "source": [
    "# Preprocessing for train images\n",
    "train_generator = train_data_gen.flow_from_directory(\n",
    "    \"D:\\\\fyp\\\\Code\\\\img\\\\train\",\n",
    "    target_size=(48,48),\n",
    "    batch_size=64,\n",
    "    color_mode='grayscale',\n",
    "    class_mode='categorical'\n",
    ")"
   ]
  },
  {
   "cell_type": "code",
   "execution_count": 4,
   "metadata": {},
   "outputs": [
    {
     "name": "stdout",
     "output_type": "stream",
     "text": [
      "Found 7178 images belonging to 7 classes.\n"
     ]
    }
   ],
   "source": [
    "# Preprocessing for test images\n",
    "test_generator = test_data_gen.flow_from_directory(\n",
    "    \"D:\\\\fyp\\\\Code\\\\img\\\\test\",\n",
    "    target_size=(48,48),\n",
    "    batch_size=64,\n",
    "    color_mode='grayscale',\n",
    "    class_mode='categorical'\n",
    ")"
   ]
  },
  {
   "cell_type": "code",
   "execution_count": 5,
   "metadata": {},
   "outputs": [
    {
     "name": "stderr",
     "output_type": "stream",
     "text": [
      "C:\\Users\\shikh\\AppData\\Roaming\\Python\\Python312\\site-packages\\keras\\src\\layers\\convolutional\\base_conv.py:107: UserWarning: Do not pass an `input_shape`/`input_dim` argument to a layer. When using Sequential models, prefer using an `Input(shape)` object as the first layer in the model instead.\n",
      "  super().__init__(activity_regularizer=activity_regularizer, **kwargs)\n"
     ]
    }
   ],
   "source": [
    "# Model Creation\n",
    "emotion_model = Sequential()\n",
    "emotion_model.add(Conv2D(32,kernel_size=(3,3), activation='relu', input_shape=(48,48,1)))\n",
    "emotion_model.add(Conv2D(64, kernel_size=(3,3), activation='relu'))\n",
    "emotion_model.add(MaxPooling2D(pool_size=(2,2)))\n",
    "emotion_model.add(Dropout(0.25))\n",
    "\n",
    "emotion_model.add(Conv2D(128, kernel_size=(3,3), activation='relu'))\n",
    "emotion_model.add(MaxPooling2D(pool_size=(2,2)))\n",
    "emotion_model.add(Conv2D(128, kernel_size=(3,3), activation='relu'))\n",
    "emotion_model.add(MaxPooling2D(pool_size=(2,2)))\n",
    "emotion_model.add(Dropout(0.25))\n",
    "\n",
    "emotion_model.add(Flatten())\n",
    "emotion_model.add(Dense(1024, activation='relu'))\n",
    "emotion_model.add(Dropout(0.5))\n",
    "emotion_model.add(Dense(7, activation='softmax'))\n",
    "\n",
    "emotion_model.compile(loss='categorical_crossentropy', optimizer=Adam(learning_rate=0.0001, weight_decay=1e-6), metrics=['accuracy'])"
   ]
  },
  {
   "cell_type": "code",
   "execution_count": 6,
   "metadata": {},
   "outputs": [
    {
     "name": "stdout",
     "output_type": "stream",
     "text": [
      "Epoch 1/50\n"
     ]
    },
    {
     "name": "stderr",
     "output_type": "stream",
     "text": [
      "C:\\Users\\shikh\\AppData\\Roaming\\Python\\Python312\\site-packages\\keras\\src\\trainers\\data_adapters\\py_dataset_adapter.py:121: UserWarning: Your `PyDataset` class should call `super().__init__(**kwargs)` in its constructor. `**kwargs` can include `workers`, `use_multiprocessing`, `max_queue_size`. Do not pass these arguments to `fit()`, as they will be ignored.\n",
      "  self._warn_if_super_not_called()\n"
     ]
    },
    {
     "name": "stdout",
     "output_type": "stream",
     "text": [
      "\u001b[1m448/448\u001b[0m \u001b[32m━━━━━━━━━━━━━━━━━━━━\u001b[0m\u001b[37m\u001b[0m \u001b[1m1493s\u001b[0m 3s/step - accuracy: 0.2424 - loss: 1.8345 - val_accuracy: 0.3334 - val_loss: 1.7286\n",
      "Epoch 2/50\n",
      "\u001b[1m448/448\u001b[0m \u001b[32m━━━━━━━━━━━━━━━━━━━━\u001b[0m\u001b[37m\u001b[0m \u001b[1m1s\u001b[0m 2ms/step - accuracy: 0.2969 - loss: 1.7421 - val_accuracy: 0.3000 - val_loss: 1.6944\n",
      "Epoch 3/50\n"
     ]
    },
    {
     "name": "stderr",
     "output_type": "stream",
     "text": [
      "c:\\Python312\\Lib\\contextlib.py:158: UserWarning: Your input ran out of data; interrupting training. Make sure that your dataset or generator can generate at least `steps_per_epoch * epochs` batches. You may need to use the `.repeat()` function when building your dataset.\n",
      "  self.gen.throw(value)\n"
     ]
    },
    {
     "name": "stdout",
     "output_type": "stream",
     "text": [
      "\u001b[1m448/448\u001b[0m \u001b[32m━━━━━━━━━━━━━━━━━━━━\u001b[0m\u001b[37m\u001b[0m \u001b[1m238s\u001b[0m 522ms/step - accuracy: 0.3392 - loss: 1.6759 - val_accuracy: 0.4141 - val_loss: 1.5277\n",
      "Epoch 4/50\n",
      "\u001b[1m448/448\u001b[0m \u001b[32m━━━━━━━━━━━━━━━━━━━━\u001b[0m\u001b[37m\u001b[0m \u001b[1m0s\u001b[0m 164us/step - accuracy: 0.4375 - loss: 1.4743 - val_accuracy: 0.4000 - val_loss: 1.3667\n",
      "Epoch 5/50\n",
      "\u001b[1m448/448\u001b[0m \u001b[32m━━━━━━━━━━━━━━━━━━━━\u001b[0m\u001b[37m\u001b[0m \u001b[1m173s\u001b[0m 385ms/step - accuracy: 0.4099 - loss: 1.5331 - val_accuracy: 0.4499 - val_loss: 1.4478\n",
      "Epoch 6/50\n",
      "\u001b[1m448/448\u001b[0m \u001b[32m━━━━━━━━━━━━━━━━━━━━\u001b[0m\u001b[37m\u001b[0m \u001b[1m0s\u001b[0m 121us/step - accuracy: 0.3438 - loss: 1.5225 - val_accuracy: 0.6000 - val_loss: 1.1680\n",
      "Epoch 7/50\n",
      "\u001b[1m448/448\u001b[0m \u001b[32m━━━━━━━━━━━━━━━━━━━━\u001b[0m\u001b[37m\u001b[0m \u001b[1m153s\u001b[0m 342ms/step - accuracy: 0.4402 - loss: 1.4617 - val_accuracy: 0.4679 - val_loss: 1.3933\n",
      "Epoch 8/50\n",
      "\u001b[1m448/448\u001b[0m \u001b[32m━━━━━━━━━━━━━━━━━━━━\u001b[0m\u001b[37m\u001b[0m \u001b[1m0s\u001b[0m 346us/step - accuracy: 0.4219 - loss: 1.3968 - val_accuracy: 0.6000 - val_loss: 1.3300\n",
      "Epoch 9/50\n",
      "\u001b[1m448/448\u001b[0m \u001b[32m━━━━━━━━━━━━━━━━━━━━\u001b[0m\u001b[37m\u001b[0m \u001b[1m176s\u001b[0m 393ms/step - accuracy: 0.4664 - loss: 1.3936 - val_accuracy: 0.4717 - val_loss: 1.3709\n",
      "Epoch 10/50\n",
      "\u001b[1m448/448\u001b[0m \u001b[32m━━━━━━━━━━━━━━━━━━━━\u001b[0m\u001b[37m\u001b[0m \u001b[1m2s\u001b[0m 4ms/step - accuracy: 0.4219 - loss: 1.4851 - val_accuracy: 0.2000 - val_loss: 1.7117\n",
      "Epoch 11/50\n",
      "\u001b[1m448/448\u001b[0m \u001b[32m━━━━━━━━━━━━━━━━━━━━\u001b[0m\u001b[37m\u001b[0m \u001b[1m5556s\u001b[0m 12s/step - accuracy: 0.4906 - loss: 1.3450 - val_accuracy: 0.4940 - val_loss: 1.3203\n",
      "Epoch 12/50\n",
      "\u001b[1m448/448\u001b[0m \u001b[32m━━━━━━━━━━━━━━━━━━━━\u001b[0m\u001b[37m\u001b[0m \u001b[1m3s\u001b[0m 5ms/step - accuracy: 0.4219 - loss: 1.4065 - val_accuracy: 0.2000 - val_loss: 1.5412\n",
      "Epoch 13/50\n",
      "\u001b[1m448/448\u001b[0m \u001b[32m━━━━━━━━━━━━━━━━━━━━\u001b[0m\u001b[37m\u001b[0m \u001b[1m238s\u001b[0m 525ms/step - accuracy: 0.5137 - loss: 1.2898 - val_accuracy: 0.5222 - val_loss: 1.2628\n",
      "Epoch 14/50\n",
      "\u001b[1m448/448\u001b[0m \u001b[32m━━━━━━━━━━━━━━━━━━━━\u001b[0m\u001b[37m\u001b[0m \u001b[1m1s\u001b[0m 2ms/step - accuracy: 0.4688 - loss: 1.4276 - val_accuracy: 0.5000 - val_loss: 1.3434\n",
      "Epoch 15/50\n",
      "\u001b[1m448/448\u001b[0m \u001b[32m━━━━━━━━━━━━━━━━━━━━\u001b[0m\u001b[37m\u001b[0m \u001b[1m183s\u001b[0m 407ms/step - accuracy: 0.5231 - loss: 1.2648 - val_accuracy: 0.5244 - val_loss: 1.2446\n",
      "Epoch 16/50\n",
      "\u001b[1m448/448\u001b[0m \u001b[32m━━━━━━━━━━━━━━━━━━━━\u001b[0m\u001b[37m\u001b[0m \u001b[1m1s\u001b[0m 1ms/step - accuracy: 0.4219 - loss: 1.4144 - val_accuracy: 0.5000 - val_loss: 1.0726\n",
      "Epoch 17/50\n",
      "\u001b[1m448/448\u001b[0m \u001b[32m━━━━━━━━━━━━━━━━━━━━\u001b[0m\u001b[37m\u001b[0m \u001b[1m217s\u001b[0m 485ms/step - accuracy: 0.5424 - loss: 1.2215 - val_accuracy: 0.5359 - val_loss: 1.2110\n",
      "Epoch 18/50\n",
      "\u001b[1m448/448\u001b[0m \u001b[32m━━━━━━━━━━━━━━━━━━━━\u001b[0m\u001b[37m\u001b[0m \u001b[1m1s\u001b[0m 813us/step - accuracy: 0.5312 - loss: 1.1894 - val_accuracy: 0.4000 - val_loss: 1.1608\n",
      "Epoch 19/50\n",
      "\u001b[1m448/448\u001b[0m \u001b[32m━━━━━━━━━━━━━━━━━━━━\u001b[0m\u001b[37m\u001b[0m \u001b[1m185s\u001b[0m 412ms/step - accuracy: 0.5537 - loss: 1.1796 - val_accuracy: 0.5476 - val_loss: 1.1901\n",
      "Epoch 20/50\n",
      "\u001b[1m448/448\u001b[0m \u001b[32m━━━━━━━━━━━━━━━━━━━━\u001b[0m\u001b[37m\u001b[0m \u001b[1m3s\u001b[0m 1ms/step - accuracy: 0.5469 - loss: 1.2219 - val_accuracy: 0.5000 - val_loss: 0.9692\n",
      "Epoch 21/50\n",
      "\u001b[1m448/448\u001b[0m \u001b[32m━━━━━━━━━━━━━━━━━━━━\u001b[0m\u001b[37m\u001b[0m \u001b[1m395s\u001b[0m 882ms/step - accuracy: 0.5591 - loss: 1.1677 - val_accuracy: 0.5529 - val_loss: 1.1747\n",
      "Epoch 22/50\n",
      "\u001b[1m448/448\u001b[0m \u001b[32m━━━━━━━━━━━━━━━━━━━━\u001b[0m\u001b[37m\u001b[0m \u001b[1m1s\u001b[0m 1ms/step - accuracy: 0.5625 - loss: 1.2966 - val_accuracy: 0.4000 - val_loss: 1.2240\n",
      "Epoch 23/50\n",
      "\u001b[1m448/448\u001b[0m \u001b[32m━━━━━━━━━━━━━━━━━━━━\u001b[0m\u001b[37m\u001b[0m \u001b[1m643s\u001b[0m 1s/step - accuracy: 0.5721 - loss: 1.1374 - val_accuracy: 0.5594 - val_loss: 1.1542\n",
      "Epoch 24/50\n",
      "\u001b[1m448/448\u001b[0m \u001b[32m━━━━━━━━━━━━━━━━━━━━\u001b[0m\u001b[37m\u001b[0m \u001b[1m1s\u001b[0m 814us/step - accuracy: 0.5781 - loss: 1.0877 - val_accuracy: 0.5000 - val_loss: 1.3602\n",
      "Epoch 25/50\n",
      "\u001b[1m448/448\u001b[0m \u001b[32m━━━━━━━━━━━━━━━━━━━━\u001b[0m\u001b[37m\u001b[0m \u001b[1m288s\u001b[0m 638ms/step - accuracy: 0.5802 - loss: 1.1210 - val_accuracy: 0.5587 - val_loss: 1.1510\n",
      "Epoch 26/50\n",
      "\u001b[1m448/448\u001b[0m \u001b[32m━━━━━━━━━━━━━━━━━━━━\u001b[0m\u001b[37m\u001b[0m \u001b[1m1s\u001b[0m 1ms/step - accuracy: 0.6406 - loss: 0.9846 - val_accuracy: 0.4000 - val_loss: 1.2599\n",
      "Epoch 27/50\n",
      "\u001b[1m448/448\u001b[0m \u001b[32m━━━━━━━━━━━━━━━━━━━━\u001b[0m\u001b[37m\u001b[0m \u001b[1m285s\u001b[0m 635ms/step - accuracy: 0.5970 - loss: 1.0825 - val_accuracy: 0.5717 - val_loss: 1.1339\n",
      "Epoch 28/50\n",
      "\u001b[1m448/448\u001b[0m \u001b[32m━━━━━━━━━━━━━━━━━━━━\u001b[0m\u001b[37m\u001b[0m \u001b[1m1s\u001b[0m 497us/step - accuracy: 0.6406 - loss: 1.1452 - val_accuracy: 0.6000 - val_loss: 1.2192\n",
      "Epoch 29/50\n",
      "\u001b[1m448/448\u001b[0m \u001b[32m━━━━━━━━━━━━━━━━━━━━\u001b[0m\u001b[37m\u001b[0m \u001b[1m285s\u001b[0m 635ms/step - accuracy: 0.6017 - loss: 1.0615 - val_accuracy: 0.5710 - val_loss: 1.1186\n",
      "Epoch 30/50\n",
      "\u001b[1m448/448\u001b[0m \u001b[32m━━━━━━━━━━━━━━━━━━━━\u001b[0m\u001b[37m\u001b[0m \u001b[1m1s\u001b[0m 564us/step - accuracy: 0.5000 - loss: 1.1508 - val_accuracy: 0.9000 - val_loss: 0.5933\n",
      "Epoch 31/50\n",
      "\u001b[1m448/448\u001b[0m \u001b[32m━━━━━━━━━━━━━━━━━━━━\u001b[0m\u001b[37m\u001b[0m \u001b[1m190s\u001b[0m 423ms/step - accuracy: 0.6131 - loss: 1.0388 - val_accuracy: 0.5794 - val_loss: 1.1170\n",
      "Epoch 32/50\n",
      "\u001b[1m448/448\u001b[0m \u001b[32m━━━━━━━━━━━━━━━━━━━━\u001b[0m\u001b[37m\u001b[0m \u001b[1m0s\u001b[0m 156us/step - accuracy: 0.5938 - loss: 1.0752 - val_accuracy: 1.0000 - val_loss: 0.4962\n",
      "Epoch 33/50\n",
      "\u001b[1m448/448\u001b[0m \u001b[32m━━━━━━━━━━━━━━━━━━━━\u001b[0m\u001b[37m\u001b[0m \u001b[1m140s\u001b[0m 313ms/step - accuracy: 0.6204 - loss: 1.0188 - val_accuracy: 0.5898 - val_loss: 1.1032\n",
      "Epoch 34/50\n",
      "\u001b[1m448/448\u001b[0m \u001b[32m━━━━━━━━━━━━━━━━━━━━\u001b[0m\u001b[37m\u001b[0m \u001b[1m0s\u001b[0m 272us/step - accuracy: 0.6250 - loss: 1.0066 - val_accuracy: 0.9000 - val_loss: 0.5450\n",
      "Epoch 35/50\n",
      "\u001b[1m448/448\u001b[0m \u001b[32m━━━━━━━━━━━━━━━━━━━━\u001b[0m\u001b[37m\u001b[0m \u001b[1m141s\u001b[0m 313ms/step - accuracy: 0.6241 - loss: 0.9999 - val_accuracy: 0.5887 - val_loss: 1.0908\n",
      "Epoch 36/50\n",
      "\u001b[1m448/448\u001b[0m \u001b[32m━━━━━━━━━━━━━━━━━━━━\u001b[0m\u001b[37m\u001b[0m \u001b[1m0s\u001b[0m 336us/step - accuracy: 0.7188 - loss: 0.8795 - val_accuracy: 0.8000 - val_loss: 0.9263\n",
      "Epoch 37/50\n",
      "\u001b[1m448/448\u001b[0m \u001b[32m━━━━━━━━━━━━━━━━━━━━\u001b[0m\u001b[37m\u001b[0m \u001b[1m139s\u001b[0m 309ms/step - accuracy: 0.6423 - loss: 0.9608 - val_accuracy: 0.5943 - val_loss: 1.0852\n",
      "Epoch 38/50\n",
      "\u001b[1m448/448\u001b[0m \u001b[32m━━━━━━━━━━━━━━━━━━━━\u001b[0m\u001b[37m\u001b[0m \u001b[1m1s\u001b[0m 448us/step - accuracy: 0.5625 - loss: 1.0755 - val_accuracy: 0.1000 - val_loss: 1.6841\n",
      "Epoch 39/50\n",
      "\u001b[1m448/448\u001b[0m \u001b[32m━━━━━━━━━━━━━━━━━━━━\u001b[0m\u001b[37m\u001b[0m \u001b[1m149s\u001b[0m 333ms/step - accuracy: 0.6521 - loss: 0.9435 - val_accuracy: 0.5975 - val_loss: 1.0899\n",
      "Epoch 40/50\n",
      "\u001b[1m448/448\u001b[0m \u001b[32m━━━━━━━━━━━━━━━━━━━━\u001b[0m\u001b[37m\u001b[0m \u001b[1m1s\u001b[0m 231us/step - accuracy: 0.6250 - loss: 0.9841 - val_accuracy: 0.6000 - val_loss: 1.2337\n",
      "Epoch 41/50\n",
      "\u001b[1m448/448\u001b[0m \u001b[32m━━━━━━━━━━━━━━━━━━━━\u001b[0m\u001b[37m\u001b[0m \u001b[1m225s\u001b[0m 502ms/step - accuracy: 0.6519 - loss: 0.9342 - val_accuracy: 0.6032 - val_loss: 1.0727\n",
      "Epoch 42/50\n",
      "\u001b[1m448/448\u001b[0m \u001b[32m━━━━━━━━━━━━━━━━━━━━\u001b[0m\u001b[37m\u001b[0m \u001b[1m1s\u001b[0m 306us/step - accuracy: 0.6406 - loss: 0.8653 - val_accuracy: 0.6000 - val_loss: 0.8045\n",
      "Epoch 43/50\n",
      "\u001b[1m448/448\u001b[0m \u001b[32m━━━━━━━━━━━━━━━━━━━━\u001b[0m\u001b[37m\u001b[0m \u001b[1m263s\u001b[0m 585ms/step - accuracy: 0.6697 - loss: 0.8993 - val_accuracy: 0.6038 - val_loss: 1.0686\n",
      "Epoch 44/50\n",
      "\u001b[1m448/448\u001b[0m \u001b[32m━━━━━━━━━━━━━━━━━━━━\u001b[0m\u001b[37m\u001b[0m \u001b[1m1s\u001b[0m 480us/step - accuracy: 0.7344 - loss: 0.7551 - val_accuracy: 0.4000 - val_loss: 1.7230\n",
      "Epoch 45/50\n",
      "\u001b[1m448/448\u001b[0m \u001b[32m━━━━━━━━━━━━━━━━━━━━\u001b[0m\u001b[37m\u001b[0m \u001b[1m252s\u001b[0m 563ms/step - accuracy: 0.6777 - loss: 0.8784 - val_accuracy: 0.6088 - val_loss: 1.0678\n",
      "Epoch 46/50\n",
      "\u001b[1m448/448\u001b[0m \u001b[32m━━━━━━━━━━━━━━━━━━━━\u001b[0m\u001b[37m\u001b[0m \u001b[1m0s\u001b[0m 250us/step - accuracy: 0.5781 - loss: 0.9707 - val_accuracy: 0.5000 - val_loss: 1.5767\n",
      "Epoch 47/50\n",
      "\u001b[1m448/448\u001b[0m \u001b[32m━━━━━━━━━━━━━━━━━━━━\u001b[0m\u001b[37m\u001b[0m \u001b[1m250s\u001b[0m 558ms/step - accuracy: 0.6905 - loss: 0.8472 - val_accuracy: 0.6027 - val_loss: 1.0739\n",
      "Epoch 48/50\n",
      "\u001b[1m448/448\u001b[0m \u001b[32m━━━━━━━━━━━━━━━━━━━━\u001b[0m\u001b[37m\u001b[0m \u001b[1m1s\u001b[0m 212us/step - accuracy: 0.7031 - loss: 0.7963 - val_accuracy: 0.7000 - val_loss: 0.5970\n",
      "Epoch 49/50\n",
      "\u001b[1m448/448\u001b[0m \u001b[32m━━━━━━━━━━━━━━━━━━━━\u001b[0m\u001b[37m\u001b[0m \u001b[1m315s\u001b[0m 703ms/step - accuracy: 0.6905 - loss: 0.8357 - val_accuracy: 0.6084 - val_loss: 1.0629\n",
      "Epoch 50/50\n",
      "\u001b[1m448/448\u001b[0m \u001b[32m━━━━━━━━━━━━━━━━━━━━\u001b[0m\u001b[37m\u001b[0m \u001b[1m1s\u001b[0m 658us/step - accuracy: 0.7344 - loss: 0.6893 - val_accuracy: 0.6000 - val_loss: 1.3563\n"
     ]
    }
   ],
   "source": [
    "# Training\n",
    "emotion_model_info = emotion_model.fit(\n",
    "    train_generator,\n",
    "    steps_per_epoch= 28709//64,\n",
    "    epochs = 50,\n",
    "    validation_data = test_generator,\n",
    "    validation_steps = 7178//64\n",
    ")"
   ]
  },
  {
   "cell_type": "code",
   "execution_count": null,
   "metadata": {},
   "outputs": [
    {
     "ename": "",
     "evalue": "",
     "output_type": "error",
     "traceback": [
      "\u001b[1;31mFailed to start the Kernel. \n",
      "\u001b[1;31mUnable to start Kernel 'Python 3.12.3' due to a timeout waiting for the ports to get used. \n",
      "\u001b[1;31mView Jupyter <a href='command:jupyter.viewOutput'>log</a> for further details."
     ]
    }
   ],
   "source": [
    "# saving to json file\n",
    "emo_json = emotion_model.to_json()\n",
    "with open(\"emo.json\", \"w\") as json_file:\n",
    "    json_file.write(emo_json)"
   ]
  },
  {
   "cell_type": "code",
   "execution_count": null,
   "metadata": {},
   "outputs": [
    {
     "ename": "",
     "evalue": "",
     "output_type": "error",
     "traceback": [
      "\u001b[1;31mFailed to start the Kernel. \n",
      "\u001b[1;31mUnable to start Kernel 'Python 3.12.3' due to a timeout waiting for the ports to get used. \n",
      "\u001b[1;31mView Jupyter <a href='command:jupyter.viewOutput'>log</a> for further details."
     ]
    }
   ],
   "source": [
    "# saving model to .h5\n",
    "emotion_model.save_weights('emo.weights.h5')"
   ]
  },
  {
   "cell_type": "code",
   "execution_count": 8,
   "metadata": {},
   "outputs": [],
   "source": [
    "emotion_model.save(\"emotional.keras\")"
   ]
  },
  {
   "cell_type": "code",
   "execution_count": null,
   "metadata": {},
   "outputs": [],
   "source": []
  }
 ],
 "metadata": {
  "kernelspec": {
   "display_name": "Python 3",
   "language": "python",
   "name": "python3"
  },
  "language_info": {
   "codemirror_mode": {
    "name": "ipython",
    "version": 3
   },
   "file_extension": ".py",
   "mimetype": "text/x-python",
   "name": "python",
   "nbconvert_exporter": "python",
   "pygments_lexer": "ipython3",
   "version": "3.12.3"
  }
 },
 "nbformat": 4,
 "nbformat_minor": 2
}
